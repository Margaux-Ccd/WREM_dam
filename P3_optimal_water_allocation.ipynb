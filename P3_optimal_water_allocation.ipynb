{
 "cells": [
  {
   "cell_type": "markdown",
   "id": "e137e478",
   "metadata": {},
   "source": [
    "# Setting up the simulation\n",
    "![report/images/GUI_welcome_page.png](report/images/GUI_welcome_page.png)"
   ]
  },
  {
   "cell_type": "code",
   "execution_count": 1,
   "id": "59c079e0",
   "metadata": {},
   "outputs": [],
   "source": [
    "import pandas as pd\n",
    "import numpy as np\n",
    "import os\n",
    "\n"
   ]
  },
  {
   "cell_type": "markdown",
   "id": "4e27ed83",
   "metadata": {},
   "source": [
    "#### Flows"
   ]
  },
  {
   "cell_type": "code",
   "execution_count": null,
   "id": "9ef322ec",
   "metadata": {},
   "outputs": [],
   "source": [
    "dryQ = ... # Preprocessing Moea's file P1 (dry)\n",
    "wetQ = ... # Preprocessing Moea's file P2 (wet)"
   ]
  },
  {
   "cell_type": "markdown",
   "id": "9aee14dd",
   "metadata": {},
   "source": [
    "#### Hydropower plant"
   ]
  },
  {
   "cell_type": "code",
   "execution_count": 5,
   "id": "26d5ef85",
   "metadata": {},
   "outputs": [
    {
     "name": "stdout",
     "output_type": "stream",
     "text": [
      "Number of days per year with maintenance (dry case) 14\n",
      "Number of days per year with maintenance (wet case) 21\n"
     ]
    }
   ],
   "source": [
    "print(\"Number of days per year with maintenance (dry case)\", int(365*0.04))\n",
    "print(\"Number of days per year with maintenance (wet case)\", int(365*0.06))"
   ]
  },
  {
   "cell_type": "code",
   "execution_count": null,
   "id": "4b052571",
   "metadata": {},
   "outputs": [],
   "source": []
  }
 ],
 "metadata": {
  "kernelspec": {
   "display_name": "tens",
   "language": "python",
   "name": "python3"
  },
  "language_info": {
   "codemirror_mode": {
    "name": "ipython",
    "version": 3
   },
   "file_extension": ".py",
   "mimetype": "text/x-python",
   "name": "python",
   "nbconvert_exporter": "python",
   "pygments_lexer": "ipython3",
   "version": "3.9.18"
  }
 },
 "nbformat": 4,
 "nbformat_minor": 5
}
